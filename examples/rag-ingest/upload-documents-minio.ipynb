{
 "cells": [
  {
   "cell_type": "markdown",
   "id": "4932d433-d4e1-4f9e-9ac9-b6054983b93b",
   "metadata": {},
   "source": [
    " ## Import the necessary components"
   ]
  },
  {
   "cell_type": "code",
   "execution_count": 2,
   "id": "b5eb6b6a-fb37-42ca-b5f4-4125726019ba",
   "metadata": {},
   "outputs": [],
   "source": [
    "import kfp\n",
    "import os\n",
    "import requests\n",
    "\n",
    "from kfp.dsl import Input, Model, component\n",
    "from kfp.dsl import InputPath, OutputPath, pipeline, component"
   ]
  },
  {
   "cell_type": "markdown",
   "id": "80b741d7-3bf1-46e9-a14d-4df72f806089",
   "metadata": {},
   "source": [
    "## Ingest your files\n",
    "Create a component that downloads the files and then saves it at a specified path."
   ]
  },
  {
   "cell_type": "code",
   "execution_count": null,
   "id": "1cbc0d9f-9ed4-4100-ab65-42fd5041e0b0",
   "metadata": {},
   "outputs": [],
   "source": [
    "@component(\n",
    "    base_image=\"python:3.11\",\n",
    "    packages_to_install=[\"requests==2.32.3\", \"pandas==2.2.2\"]\n",
    ")\n",
    "def download_dataset(url: str, dataset_path: OutputPath('Dataset')) -> None:\n",
    "    import requests\n",
    "    import pandas as pd\n",
    "\n",
    "    response = requests.get(url)\n",
    "    response.raise_for_status()\n",
    "\n",
    "    from io import StringIO\n",
    "    dataset = pd.read_csv(StringIO(response.text), header=0, sep=\";\")\n",
    "\n",
    "    dataset.to_csv(dataset_path, index=False)"
   ]
  }
 ],
 "metadata": {
  "kernelspec": {
   "display_name": "Python 3 (ipykernel)",
   "language": "python",
   "name": "python3"
  },
  "language_info": {
   "codemirror_mode": {
    "name": "ipython",
    "version": 3
   },
   "file_extension": ".py",
   "mimetype": "text/x-python",
   "name": "python",
   "nbconvert_exporter": "python",
   "pygments_lexer": "ipython3",
   "version": "3.11.11"
  }
 },
 "nbformat": 4,
 "nbformat_minor": 5
}
