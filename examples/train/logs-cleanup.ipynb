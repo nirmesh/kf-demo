{
 "cells": [
  {
   "cell_type": "code",
   "execution_count": 1,
   "id": "2bc83a1d-356a-4a9b-b2f0-4556a0373fd6",
   "metadata": {},
   "outputs": [],
   "source": [
    "import kfp\n",
    "from kfp.dsl import component, pipeline"
   ]
  },
  {
   "cell_type": "code",
   "execution_count": 2,
   "id": "cede953c-cc60-43b5-8cf4-c268bf1a2f6e",
   "metadata": {},
   "outputs": [],
   "source": [
    "@component(\n",
    "    base_image='python:3.9',\n",
    "    packages_to_install=[\"git+https://github.com/kubeflow/trainer.git@master#subdirectory=sdk\"],\n",
    ")\n",
    "def get_job_logs_n_cleanup(job_id: str):\n",
    "    from kubeflow.trainer import CustomTrainer, TrainerClient\n",
    "\n",
    "    for s in TrainerClient().get_job(name=job_id).steps:\n",
    "        print(f\"Step: {s.name}, Status: {s.status}, Devices: {s.device} x {s.device_count}\")\n",
    "    \n",
    "    logs = TrainerClient().get_job_logs(name=job_id)\n",
    "    \n",
    "    print(logs[\"node-0\"])\n",
    "    \n",
    "    TrainerClient().delete_job(name=job_id)"
   ]
  },
  {
   "cell_type": "code",
   "execution_count": 5,
   "id": "e1d37274-770c-4e82-8e01-068669c24965",
   "metadata": {},
   "outputs": [
    {
     "name": "stderr",
     "output_type": "stream",
     "text": [
      "/opt/conda/lib/python3.11/site-packages/kfp/client/client.py:159: FutureWarning: This client only works with Kubeflow Pipeline v2.0.0-beta.2 and later versions.\n",
      "  warnings.warn(\n"
     ]
    },
    {
     "data": {
      "text/html": [
       "<a href=\"/pipeline/#/experiments/details/eab56b7f-f1ae-4d56-a13b-ae35c83302b6\" target=\"_blank\" >Experiment details</a>."
      ],
      "text/plain": [
       "<IPython.core.display.HTML object>"
      ]
     },
     "metadata": {},
     "output_type": "display_data"
    },
    {
     "data": {
      "text/html": [
       "<a href=\"/pipeline/#/runs/details/ef4646c5-b508-4f24-a8aa-71688e2f34a1\" target=\"_blank\" >Run details</a>."
      ],
      "text/plain": [
       "<IPython.core.display.HTML object>"
      ]
     },
     "metadata": {},
     "output_type": "display_data"
    }
   ],
   "source": [
    "@pipeline(name='get-job-logs-n-cleanup-pipeline')\n",
    "def get_job_logs_n_cleanup_pipeline():\n",
    "    step1 = get_job_logs_n_cleanup(job_id=\"kcd9605c904a\")\n",
    "\n",
    "client = kfp.Client()\n",
    "kfp.compiler.Compiler().compile(get_job_logs_n_cleanup_pipeline, 'get_job_logs_n_cleanup_pipeline.yaml')\n",
    "run = client.create_run_from_pipeline_func(get_job_logs_n_cleanup_pipeline, arguments={}, enable_caching=False)"
   ]
  },
  {
   "cell_type": "code",
   "execution_count": null,
   "id": "3d652320-17fb-4a6c-b0ad-c12e9aeab5be",
   "metadata": {},
   "outputs": [],
   "source": []
  }
 ],
 "metadata": {
  "kernelspec": {
   "display_name": "Python 3 (ipykernel)",
   "language": "python",
   "name": "python3"
  },
  "language_info": {
   "codemirror_mode": {
    "name": "ipython",
    "version": 3
   },
   "file_extension": ".py",
   "mimetype": "text/x-python",
   "name": "python",
   "nbconvert_exporter": "python",
   "pygments_lexer": "ipython3",
   "version": "3.11.11"
  }
 },
 "nbformat": 4,
 "nbformat_minor": 5
}
